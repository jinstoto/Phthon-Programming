import turtle

# 사각형을 그리는 함수
def draw_square(side_length):
    for _ in range(4):
        turtle.forward(side_length)
        turtle.left(90)

# 삼각형을 그리는 함수
def draw_triangle(side_length):
    for _ in range(3):
        turtle.forward(side_length)
        turtle.left(120)

# 원을 그리는 함수
def draw_circle(radius):
    turtle.circle(radius)

# 그리기 전 설정
turtle.speed(2)  # 그리기 속도 설정
turtle.penup()   # 펜을 들어서 이동할 때 선이 그려지지 않도록 설정
turtle.goto(-100, 100)  # 시작 위치로 이동
turtle.pendown()  # 펜을 내려서 실제로 그리기 시작

# 조건에 따라 다양한 모양 그리기
for i in range(1, 6):
    if i % 2 == 0:  # 짝수면 사각형 그리기
        draw_square(50)
    else:           # 홀수면 삼각형 그리기
        draw_triangle(50)
    
    turtle.penup()   # 펜을 들어서 새로운 위치로 이동
    turtle.forward(150)
    turtle.pendown()

# 마지막으로 원 그리기
draw_circle(50)

# 그리기 종료
turtle.done()
