import turtle

# 보석 그리기
def draw_gem(x, y, color):
    turtle.penup()
    turtle.goto(x, y)
    turtle.pendown()
    turtle.color(color)
    turtle.begin_fill()
    for _ in range(6):
        turtle.forward(30)
        turtle.left(60)
    turtle.end_fill()

# 앵그리 버드가 보석을 먹는 함수
def eat_gem():
    for i in range(8):
        if i % 2 == 0:
            draw_gem(100, 100 + (i * 50), "yellow")
        else:
            draw_gem(100, 100 + (i * 50), "blue")

# 초기 설정
turtle.shape("turtle")  # 커서를 터틀 모양으로 변경
turtle.speed(2)

# 앵그리 버드가 보석을 먹기
for _ in range(5):
    eat_gem()

# 그리기 종료
turtle.done()




import turtle as t

# 화면 초기화
t.clearscreen()
t.setup(600, 600)

# 보석 그리기
def draw_gem(x, y, color):
    t.penup()
    t.goto(x, y)
    t.pendown()
    t.color(color)
    t.begin_fill()
    for _ in range(6):
        t.forward(30)
        t.left(60)
    t.end_fill()

# 앵그리 버드가 보석을 먹는 함수
def eat_gem():
    for i in range(8):
        if i % 2 == 0:
            draw_gem(100, 100 + (i * 50), "yellow")
        else:
            draw_gem(100, 100 + (i * 50), "blue")

# 초기 설정
t.shape("turtle")  # 커서를 터틀 모양으로 변경
t.speed(2)

# 앵그리 버드가 보석을 먹기
for _ in range(8):
    eat_gem()

# 그리기 종료
t.done()
