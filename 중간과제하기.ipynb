import turtle as t

# 화면 초기화
t.clearscreen()
t.setup(800, 800)

# 보석 그리기
def draw_gem(x, y, color):
    t.penup()
    t.goto(x, y)
    t.pendown()
    t.color(color)
    t.begin_fill()
    for _ in range(6):
        t.forward(30)
        t.left(60)
    t.end_fill()

# 앵그리 버드가 보석을 먹는 함수
def eat_gem():
    for i in range(8):
        if i % 2 == 0:
            draw_gem(-200 + (i * 50), 0, "yellow")  # 왼쪽에서 오른쪽으로 이동하도록 변경
        else:
            draw_gem(-200 + (i * 50), 0, "blue")    # 왼쪽에서 오른쪽으로 이동하도록 변경

# 초기 설정
t.shape("turtle")  # 커서를 터틀 모양으로 변경
t.speed(2)

# 앵그리 버드가 보석을 먹기
for _ in range(2):  # 전체 반복을 3번으로 변경
    eat_gem()

# 그리기 종료
t.done()
