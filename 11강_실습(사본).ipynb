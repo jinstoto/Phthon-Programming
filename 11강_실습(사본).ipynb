{
  "nbformat": 4,
  "nbformat_minor": 0,
  "metadata": {
    "colab": {
      "provenance": [],
      "toc_visible": true,
      "include_colab_link": true
    },
    "kernelspec": {
      "name": "python3",
      "display_name": "Python 3"
    },
    "language_info": {
      "name": "python"
    }
  },
  "cells": [
    {
      "cell_type": "markdown",
      "metadata": {
        "id": "view-in-github",
        "colab_type": "text"
      },
      "source": [
        "<a href=\"https://colab.research.google.com/github/jinstoto/Phthon-Programming/blob/main/11%EA%B0%95_%EC%8B%A4%EC%8A%B5(%EC%82%AC%EB%B3%B8).ipynb\" target=\"_parent\"><img src=\"https://colab.research.google.com/assets/colab-badge.svg\" alt=\"Open In Colab\"/></a>"
      ]
    },
    {
      "cell_type": "markdown",
      "source": [
        "# 11강 실습"
      ],
      "metadata": {
        "id": "EtjZiTaxLjdH"
      }
    },
    {
      "cell_type": "markdown",
      "source": [
        "**11강 1절 모듈의 이해**"
      ],
      "metadata": {
        "id": "dM5Jl78KLnIG"
      }
    },
    {
      "cell_type": "markdown",
      "source": [
        "dir, help 함수 테스트"
      ],
      "metadata": {
        "id": "jLudepg7Lv6Y"
      }
    },
    {
      "cell_type": "code",
      "execution_count": null,
      "metadata": {
        "id": "QjtNEdkcynR7"
      },
      "outputs": [],
      "source": [
        "\n",
        "ㄴㅇㄹㄴㅇㄹㄴㅇㄹ\n",
        "ㄴㅇㄹㄴㅇㄻㄴㅇ"
      ]
    },
    {
      "cell_type": "markdown",
      "source": [
        "math 모듈을 사용한 원뿔 계산 프로그램"
      ],
      "metadata": {
        "id": "BZcxx1KcM2eF"
      }
    },
    {
      "cell_type": "code",
      "source": [
        "# 원뿔 클래스 정의\n",
        "class Cone :\n",
        "    def __init__(self, radius = 20, height = 30):\n",
        "        self.r = radius\n",
        "        self.h = height\n",
        "\n",
        "    def get_vol(self) :\n",
        "        return 1/3 * 3.14 * self.r ** 2 * self.h\n",
        "\n",
        "    def get_surf(self) :\n",
        "        return 3.14 * self.r ** 2 + 3.14 * self.r * self.h\n"
      ],
      "metadata": {
        "id": "ZJwXQoQIM7uw"
      },
      "execution_count": null,
      "outputs": []
    },
    {
      "cell_type": "code",
      "source": [
        "dir()"
      ],
      "metadata": {
        "id": "Z-6PHeZ89RcZ",
        "outputId": "b8968777-8b08-447b-ae67-eb0e2b0cd16d",
        "colab": {
          "base_uri": "https://localhost:8080/"
        }
      },
      "execution_count": null,
      "outputs": [
        {
          "output_type": "execute_result",
          "data": {
            "text/plain": [
              "['In',\n",
              " 'Out',\n",
              " '_',\n",
              " '__',\n",
              " '___',\n",
              " '__builtin__',\n",
              " '__builtins__',\n",
              " '__doc__',\n",
              " '__loader__',\n",
              " '__name__',\n",
              " '__package__',\n",
              " '__spec__',\n",
              " '_dh',\n",
              " '_i',\n",
              " '_i1',\n",
              " '_ih',\n",
              " '_ii',\n",
              " '_iii',\n",
              " '_oh',\n",
              " 'exit',\n",
              " 'get_ipython',\n",
              " 'quit']"
            ]
          },
          "metadata": {},
          "execution_count": 1
        }
      ]
    },
    {
      "cell_type": "code",
      "source": [
        "import math\n",
        "\n",
        "dir(math)"
      ],
      "metadata": {
        "id": "_xD5L-md9faY",
        "outputId": "c48042fb-c262-4d03-dd55-2968ac1989f7",
        "colab": {
          "base_uri": "https://localhost:8080/"
        }
      },
      "execution_count": null,
      "outputs": [
        {
          "output_type": "execute_result",
          "data": {
            "text/plain": [
              "['__doc__',\n",
              " '__loader__',\n",
              " '__name__',\n",
              " '__package__',\n",
              " '__spec__',\n",
              " 'acos',\n",
              " 'acosh',\n",
              " 'asin',\n",
              " 'asinh',\n",
              " 'atan',\n",
              " 'atan2',\n",
              " 'atanh',\n",
              " 'ceil',\n",
              " 'comb',\n",
              " 'copysign',\n",
              " 'cos',\n",
              " 'cosh',\n",
              " 'degrees',\n",
              " 'dist',\n",
              " 'e',\n",
              " 'erf',\n",
              " 'erfc',\n",
              " 'exp',\n",
              " 'expm1',\n",
              " 'fabs',\n",
              " 'factorial',\n",
              " 'floor',\n",
              " 'fmod',\n",
              " 'frexp',\n",
              " 'fsum',\n",
              " 'gamma',\n",
              " 'gcd',\n",
              " 'hypot',\n",
              " 'inf',\n",
              " 'isclose',\n",
              " 'isfinite',\n",
              " 'isinf',\n",
              " 'isnan',\n",
              " 'isqrt',\n",
              " 'lcm',\n",
              " 'ldexp',\n",
              " 'lgamma',\n",
              " 'log',\n",
              " 'log10',\n",
              " 'log1p',\n",
              " 'log2',\n",
              " 'modf',\n",
              " 'nan',\n",
              " 'nextafter',\n",
              " 'perm',\n",
              " 'pi',\n",
              " 'pow',\n",
              " 'prod',\n",
              " 'radians',\n",
              " 'remainder',\n",
              " 'sin',\n",
              " 'sinh',\n",
              " 'sqrt',\n",
              " 'tan',\n",
              " 'tanh',\n",
              " 'tau',\n",
              " 'trunc',\n",
              " 'ulp']"
            ]
          },
          "metadata": {},
          "execution_count": 3
        }
      ]
    },
    {
      "cell_type": "code",
      "source": [
        "import math\n",
        "\n",
        "help(math.gamma)"
      ],
      "metadata": {
        "id": "nZgGAEgg9wkw",
        "outputId": "9be624e7-b2f2-4824-8a71-d548efe85fdf",
        "colab": {
          "base_uri": "https://localhost:8080/"
        }
      },
      "execution_count": null,
      "outputs": [
        {
          "output_type": "stream",
          "name": "stdout",
          "text": [
            "Help on built-in function gamma in module math:\n",
            "\n",
            "gamma(x, /)\n",
            "    Gamma function at x.\n",
            "\n"
          ]
        }
      ]
    },
    {
      "cell_type": "code",
      "source": [
        "\n",
        "import math\n",
        "\n",
        "print(math.pi)\n",
        "# 원뿔 클래스 정의\n",
        "class Cone :\n",
        "    def __init__(self, radius = 20, height = 30):\n",
        "        self.r = radius\n",
        "        self.h = height\n",
        "\n",
        "    def get_vol(self) :\n",
        "         #기존의 3.14를 math.pi로 치환\n",
        "        return 1/3 * math.pi * self.r ** 2 * self.h\n",
        "\n",
        "    def get_surf(self) :\n",
        "        return math.pi * self.r ** 2 + math.pi * self.r * self.h"
      ],
      "metadata": {
        "id": "VUfQU6fK9L1x",
        "outputId": "7b82d4a4-7eaa-498b-92bb-b5db2acabdd2",
        "colab": {
          "base_uri": "https://localhost:8080/"
        }
      },
      "execution_count": null,
      "outputs": [
        {
          "output_type": "stream",
          "name": "stdout",
          "text": [
            "3.141592653589793\n"
          ]
        }
      ]
    },
    {
      "cell_type": "markdown",
      "source": [
        "**11강 2절 유용한 모듈**"
      ],
      "metadata": {
        "id": "MwGVxn3sLy8T"
      }
    },
    {
      "cell_type": "markdown",
      "source": [
        "두 변의 길이 a, b와 끼인각 α인 삼각형의 넓이를 구하는 프로그램을 작성하시오.\n"
      ],
      "metadata": {
        "id": "A2gzGR3nM8nI"
      }
    },
    {
      "cell_type": "code",
      "source": [],
      "metadata": {
        "id": "CK6KXvIv3IZV"
      },
      "execution_count": null,
      "outputs": []
    },
    {
      "cell_type": "markdown",
      "source": [
        "1 ~ 45 숫자 6개를 입력 받아 당첨 숫자와\n",
        "비교하는 프로그램을 작성하시오.\n"
      ],
      "metadata": {
        "id": "UP6aKi22RoxB"
      }
    },
    {
      "cell_type": "code",
      "source": [],
      "metadata": {
        "id": "Btr-jR2m3KZA"
      },
      "execution_count": null,
      "outputs": []
    },
    {
      "cell_type": "markdown",
      "source": [
        "20번의 기회 안에 1 ~ 1000 사이의 숫자를\n",
        "맞히는 스무고개 프로그램을 작성하시오.\n"
      ],
      "metadata": {
        "id": "dZ3mQM7hR7z5"
      }
    },
    {
      "cell_type": "code",
      "source": [
        "import random\n",
        "\n",
        "hit_number = random.randint(1, 1001)\n",
        "print(hit_number)"
      ],
      "metadata": {
        "id": "XhmZvkWVSA9Z",
        "outputId": "ca2b1b9a-578e-464f-d3b1-45956a6f5b16",
        "colab": {
          "base_uri": "https://localhost:8080/"
        }
      },
      "execution_count": 1,
      "outputs": [
        {
          "output_type": "stream",
          "name": "stdout",
          "text": [
            "162\n"
          ]
        }
      ]
    },
    {
      "cell_type": "code",
      "source": [
        "import random\n",
        "\n",
        "hit_number = random.randint(1, 1001)\n",
        "\n",
        "#1~20까지 들어 있는 리스트를 생성하여 현재 몇 번째 시도인지를 출력할 예정\n",
        "guess_count_list = range(1, 21, 1)\n",
        "\n",
        "passfail = False\n",
        "\n",
        "for guess_count in guess_count_list :    # 들여쓰기를 통해 20번 반복하는 for문 안으로 진입\n",
        "\n",
        "    guess = int(input(\"숫자를 맞혀보세요(\"+str(guess_count)+ \"번째 시도): \"))\n",
        "\n",
        "    if hit_number == guess :\n",
        "        passfail = True\n",
        "        # 숫자를 20회 내에 맞힌 경우에는 반복할 필요가 없다\n",
        "        break;\n",
        "\n",
        "    elif hit_number > guess :\n",
        "        print(str(\"guess\") + \"보다 큽니다\" , end= \" \")\n",
        "    else:\n",
        "        print(str(\"guess\") + \"보다 작습니다\" , end= \" \")\n",
        "\n",
        "if passfail == True:\n",
        "    print(\"맞추었습니다. 축하합니다\")\n",
        "else :\n",
        "    print(\"모든 기회를 다 사용하셨습니다. 다음에 다시 도전하세요\")"
      ],
      "metadata": {
        "id": "anYl5MQrUDiE",
        "outputId": "0d3cc443-469b-4267-963a-eb96dfdcc7f5",
        "colab": {
          "base_uri": "https://localhost:8080/"
        }
      },
      "execution_count": 15,
      "outputs": [
        {
          "output_type": "stream",
          "name": "stdout",
          "text": [
            "숫자를 맞혀보세요(1번째 시도): 20\n",
            "guess보다 큽니다 숫자를 맞혀보세요(2번째 시도): 21\n",
            "guess보다 큽니다 숫자를 맞혀보세요(3번째 시도): 55\n",
            "guess보다 큽니다 숫자를 맞혀보세요(4번째 시도): 45\n",
            "guess보다 큽니다 숫자를 맞혀보세요(5번째 시도): 60\n",
            "guess보다 큽니다 숫자를 맞혀보세요(6번째 시도): 100\n",
            "guess보다 큽니다 숫자를 맞혀보세요(7번째 시도): 89\n",
            "guess보다 큽니다 숫자를 맞혀보세요(8번째 시도): 43\n",
            "guess보다 큽니다 숫자를 맞혀보세요(9번째 시도): 55\n",
            "guess보다 큽니다 숫자를 맞혀보세요(10번째 시도): 82\n",
            "guess보다 큽니다 숫자를 맞혀보세요(11번째 시도): 94\n",
            "guess보다 큽니다 숫자를 맞혀보세요(12번째 시도): 33\n",
            "guess보다 큽니다 숫자를 맞혀보세요(13번째 시도): 12\n",
            "guess보다 큽니다 숫자를 맞혀보세요(14번째 시도): 43\n",
            "guess보다 큽니다 숫자를 맞혀보세요(15번째 시도): 56\n",
            "guess보다 큽니다 숫자를 맞혀보세요(16번째 시도): 100\n",
            "guess보다 큽니다 숫자를 맞혀보세요(17번째 시도): 135\n",
            "guess보다 큽니다 숫자를 맞혀보세요(18번째 시도): 189\n",
            "guess보다 큽니다 숫자를 맞혀보세요(19번째 시도): 200\n",
            "guess보다 큽니다 숫자를 맞혀보세요(20번째 시도): 21\n",
            "guess보다 큽니다 모든 기회를 다 사용하셨습니다. 다음에 다시 도전하세요\n"
          ]
        }
      ]
    },
    {
      "cell_type": "markdown",
      "source": [
        "1000보다 작은 소수 찾기 프로그램"
      ],
      "metadata": {
        "id": "EdHUe1hr3bho"
      }
    },
    {
      "cell_type": "code",
      "source": [],
      "metadata": {
        "id": "b0odUfVq3bNF"
      },
      "execution_count": null,
      "outputs": []
    }
  ]
}